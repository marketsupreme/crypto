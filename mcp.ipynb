{
 "cells": [
  {
   "cell_type": "code",
   "execution_count": 35,
   "metadata": {},
   "outputs": [],
   "source": [
    "import requests\n",
    "import json"
   ]
  },
  {
   "cell_type": "code",
   "execution_count": 36,
   "metadata": {},
   "outputs": [],
   "source": [
    "prices = requests.get('https://api.nomics.com/v1/currencies/ticker?key=ea386addbac03f4bb67ceb1f333a8d0a&ids=BTC,ETH&interval=1d&convert=USD&per-page=100&page=1')"
   ]
  },
  {
   "cell_type": "code",
   "execution_count": 37,
   "metadata": {},
   "outputs": [],
   "source": [
    "data = prices.json()"
   ]
  },
  {
   "cell_type": "code",
   "execution_count": 38,
   "metadata": {
    "scrolled": true
   },
   "outputs": [
    {
     "name": "stdout",
     "output_type": "stream",
     "text": [
      "Current price of BTC is $49190.18156216 current price of ETH is $1804.32260342\n"
     ]
    }
   ],
   "source": [
    "bit_price = float(data[0]['price'])\n",
    "eth_price = float(data[1]['price'])\n",
    "\n",
    "print(f'Current price of BTC is ${bit_price} current price of ETH is ${eth_price}')"
   ]
  },
  {
   "cell_type": "code",
   "execution_count": 39,
   "metadata": {},
   "outputs": [
    {
     "name": "stdout",
     "output_type": "stream",
     "text": [
      "Current holdings of BTC is 0.98BTC current holdings of ETH is 24.255477532ETH\n"
     ]
    }
   ],
   "source": [
    "e = requests.get('https://api.ethplorer.io/getAddressInfo/0xed8b4b3ba4fd5a175613859cab6ab8f010276a3a?apiKey=freekey')\n",
    "data = e.json()\n",
    "\n",
    "eth_holdings = float(data['ETH']['balance'])\n",
    "\n",
    "b = requests.get('https://blockchain.info/balance?active=16MuqwYTRT1qTFmwF5WsgfsrA9rE3UmPQN')\n",
    "data = b.json()\n",
    "\n",
    "bit_holdings1 = data['16MuqwYTRT1qTFmwF5WsgfsrA9rE3UmPQN']['final_balance']\n",
    "bit_holdings = 0.98\n",
    "\n",
    "print(f'Current holdings of BTC is {bit_holdings}BTC current holdings of ETH is {eth_holdings}ETH')"
   ]
  },
  {
   "cell_type": "code",
   "execution_count": 40,
   "metadata": {},
   "outputs": [
    {
     "name": "stdout",
     "output_type": "stream",
     "text": [
      "Current Value is $91971.08429865036\n"
     ]
    }
   ],
   "source": [
    "eth = eth_holdings*eth_price\n",
    "bit = bit_holdings*bit_price\n",
    "\n",
    "value = eth+bit\n",
    "\n",
    "print(f'Current Value is ${value}')"
   ]
  },
  {
   "cell_type": "code",
   "execution_count": null,
   "metadata": {},
   "outputs": [],
   "source": []
  }
 ],
 "metadata": {
  "kernelspec": {
   "display_name": "Python 3",
   "language": "python",
   "name": "python3"
  },
  "language_info": {
   "codemirror_mode": {
    "name": "ipython",
    "version": 3
   },
   "file_extension": ".py",
   "mimetype": "text/x-python",
   "name": "python",
   "nbconvert_exporter": "python",
   "pygments_lexer": "ipython3",
   "version": "3.8.5"
  }
 },
 "nbformat": 4,
 "nbformat_minor": 4
}
